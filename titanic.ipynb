{
 "cells": [
  {
   "attachments": {},
   "cell_type": "markdown",
   "metadata": {
    "tags": [
     "parameters"
    ]
   },
   "source": [
    "# Titanic Dataset Analysis"
   ]
  },
  {
   "attachments": {},
   "cell_type": "markdown",
   "metadata": {},
   "source": [
    "This analysis involves following process\n",
    "1. Data Loading and Preprocessing\n",
    "2. Naive Bayes Algorithm\n",
    "3. K-Nearest Neighbors Algorithm\n",
    "4. Evaluation and Accuracy Calculation"
   ]
  },
  {
   "cell_type": "code",
   "execution_count": 74,
   "metadata": {},
   "outputs": [],
   "source": [
    "# importing libraries\n",
    "import numpy as np\n",
    "import pandas as pd\n",
    "import matplotlib.pyplot as plt"
   ]
  },
  {
   "cell_type": "code",
   "execution_count": 75,
   "metadata": {},
   "outputs": [],
   "source": [
    "# preparing the data by cleaning it and converting it into catagorical variables\n",
    "def preprocess_data(df):\n",
    "    # Drop unnecessary columns\n",
    "    df = df.drop(['PassengerId', 'Name', 'Ticket', 'Cabin'], axis=1)\n",
    "    \n",
    "    # Convert categorical variables to numerical\n",
    "    df['Sex'] = df['Sex'].map({'female': 0, 'male': 1})\n",
    "    df['Embarked'] = df['Embarked'].map({'C': 0, 'Q': 1, 'S': 2})\n",
    "    \n",
    "    # Fill missing values with median or mode\n",
    "    df['Age'].fillna(df['Age'].median(), inplace=True)\n",
    "    df['Fare'].fillna(df['Fare'].median(), inplace=True)\n",
    "    df['Embarked'].fillna(df['Embarked'].mode()[0], inplace=True)\n",
    "    \n",
    "    return df\n"
   ]
  },
  {
   "cell_type": "code",
   "execution_count": 76,
   "metadata": {},
   "outputs": [],
   "source": [
    "def split_data(df, target_col=None):\n",
    "    if target_col is not None:\n",
    "        x = df.drop(target_col, axis=1).values\n",
    "        y = df[target_col].values\n",
    "        return x, y\n",
    "    else:\n",
    "        return df.values"
   ]
  },
  {
   "cell_type": "code",
   "execution_count": 77,
   "metadata": {},
   "outputs": [],
   "source": [
    "def normalize_data(x_train, x_test):\n",
    "    x_train_norm = (x_train - np.mean(x_train, axis=0)) / np.std(x_train, axis=0)\n",
    "    x_test_norm = (x_test - np.mean(x_train, axis=0)) / np.std(x_train, axis=0)\n",
    "    return x_train_norm, x_test_norm"
   ]
  },
  {
   "cell_type": "code",
   "execution_count": 78,
   "metadata": {},
   "outputs": [],
   "source": [
    "def prior_prob(y_train):\n",
    "    p_survived = np.mean(y_train)\n",
    "    p_not_survived = 1 - p_survived\n",
    "    return p_survived, p_not_survived"
   ]
  },
  {
   "cell_type": "code",
   "execution_count": 79,
   "metadata": {},
   "outputs": [],
   "source": [
    "def calculate_likelihoods(x_train, y_train):\n",
    "    likelihoods_survived = []\n",
    "    likelihoods_not_survived = []\n",
    "\n",
    "    for feature in range(x_train.shape[1]):\n",
    "        survived_values = x_train[y_train == 1, feature]\n",
    "        not_survived_values = x_train[y_train == 0, feature]\n",
    "        likelihoods_survived.append({'mean': np.mean(survived_values), 'std': np.std(survived_values)})\n",
    "        likelihoods_not_survived.append({'mean': np.mean(not_survived_values), 'std': np.std(not_survived_values)})\n",
    "\n",
    "    return likelihoods_survived, likelihoods_not_survived"
   ]
  },
  {
   "cell_type": "code",
   "execution_count": 80,
   "metadata": {},
   "outputs": [],
   "source": [
    "# Naive bayes Algorithm\n",
    "def predict_naive_bayes(x_test, p_survived, p_not_survived, likelihoods_survived, likelihoods_not_survived):\n",
    "    predictions = []\n",
    "\n",
    "    for test_sample in x_test:\n",
    "        p_survived_sample = p_survived\n",
    "        p_not_survived_sample = p_not_survived\n",
    "\n",
    "        for feature in range(len(test_sample)):\n",
    "            p_survived_feature = calculate_probability(test_sample[feature], likelihoods_survived[feature])\n",
    "            p_not_survived_feature = calculate_probability(test_sample[feature], likelihoods_not_survived[feature])\n",
    "            \n",
    "            p_survived_sample *= p_survived_feature\n",
    "            p_not_survived_sample *= p_not_survived_feature\n",
    "\n",
    "        if p_survived_sample >= p_not_survived_sample:\n",
    "            predictions.append(1)\n",
    "        else:\n",
    "            predictions.append(0)\n",
    "\n",
    "    return np.array(predictions)"
   ]
  },
  {
   "cell_type": "code",
   "execution_count": 81,
   "metadata": {},
   "outputs": [],
   "source": [
    "def calculate_probability(x, likelihood):\n",
    "    exponent = np.exp(-((x - likelihood['mean']) ** 2) / (2 * likelihood['std'] ** 2))\n",
    "    probability = (1 / (np.sqrt(2 * np.pi) * likelihood['std'])) * exponent\n",
    "    return probability\n"
   ]
  },
  {
   "cell_type": "code",
   "execution_count": 82,
   "metadata": {},
   "outputs": [],
   "source": [
    "# K-Nearest Neighbors Algorithm\n",
    "def knn_algo(x_train, y_train, x_test, k):\n",
    "    predictions = []\n",
    "\n",
    "    for test_sample in x_test:\n",
    "        distances = np.sqrt(np.sum((x_train - test_sample) ** 2, axis=1))\n",
    "        nearest_indices = np.argsort(distances)[:k]\n",
    "        nearest_labels = y_train[nearest_indices]\n",
    "        unique_labels, counts = np.unique(nearest_labels, return_counts=True)\n",
    "        predicted_label = unique_labels[np.argmax(counts)]\n",
    "        predictions.append(predicted_label)\n",
    "\n",
    "    return np.array(predictions)"
   ]
  },
  {
   "cell_type": "code",
   "execution_count": 83,
   "metadata": {},
   "outputs": [],
   "source": [
    "# calculating accuracy \n",
    "def calculate_accuracy(y_pred, y_true):\n",
    "    accuracy = np.sum(y_pred == y_true) / len(y_true)\n",
    "    return accuracy"
   ]
  },
  {
   "cell_type": "code",
   "execution_count": 84,
   "metadata": {},
   "outputs": [],
   "source": [
    "# Load the Titanic dataset\n",
    "train_df = pd.read_csv('train.csv')\n",
    "test_df = pd.read_csv('test.csv')\n",
    "gender_sub_df = pd.read_csv('gender_submission.csv')"
   ]
  },
  {
   "cell_type": "code",
   "execution_count": 85,
   "metadata": {},
   "outputs": [],
   "source": [
    "# Preprocess the data\n",
    "train_df = preprocess_data(train_df)\n",
    "test_df = preprocess_data(test_df)"
   ]
  },
  {
   "cell_type": "code",
   "execution_count": 86,
   "metadata": {},
   "outputs": [],
   "source": [
    "# Split the data into features and target variables\n",
    "x_train, y_train = split_data(train_df, target_col='Survived')\n",
    "x_test = split_data(test_df)"
   ]
  },
  {
   "cell_type": "code",
   "execution_count": 87,
   "metadata": {},
   "outputs": [],
   "source": [
    "# Normalize the feature values\n",
    "x_train_norm, x_test_norm = normalize_data(x_train, x_test)\n",
    "\n",
    "# Calculate prior probabilities\n",
    "p_survived, p_not_survived = prior_prob(y_train)\n"
   ]
  },
  {
   "cell_type": "code",
   "execution_count": 88,
   "metadata": {},
   "outputs": [],
   "source": [
    "# Calculate likelihoods\n",
    "likelihoods_survived, likelihoods_not_survived = calculate_likelihoods(x_train_norm, y_train)"
   ]
  },
  {
   "cell_type": "code",
   "execution_count": 89,
   "metadata": {},
   "outputs": [],
   "source": [
    "# Apply the Naive Bayes algorithm\n",
    "nb_predictions = predict_naive_bayes(x_test_norm, p_survived, p_not_survived, likelihoods_survived, likelihoods_not_survived)\n",
    "\n",
    "# Apply the K-Nearest Neighbors algorithm\n",
    "knn_predictions = knn_algo(x_train_norm, y_train, x_test_norm, k=3)"
   ]
  },
  {
   "cell_type": "code",
   "execution_count": 90,
   "metadata": {},
   "outputs": [],
   "source": [
    "# Calculate and print accuracy\n",
    "nb_accuracy = calculate_accuracy(nb_predictions, gender_sub_df['Survived'])\n",
    "knn_accuracy = calculate_accuracy(knn_predictions, gender_sub_df['Survived'])\n"
   ]
  },
  {
   "cell_type": "code",
   "execution_count": 91,
   "metadata": {},
   "outputs": [
    {
     "name": "stdout",
     "output_type": "stream",
     "text": [
      "Naive Bayes Accuracy: 0.90\n",
      "K-Nearest Neighbors Accuracy: 0.78\n"
     ]
    }
   ],
   "source": [
    "\n",
    "print(f'Naive Bayes Accuracy: {nb_accuracy:.2f}')\n",
    "print(f'K-Nearest Neighbors Accuracy: {knn_accuracy:.2f}')"
   ]
  }
 ],
 "metadata": {
  "kernelspec": {
   "display_name": "Python 3",
   "language": "python",
   "name": "python3"
  },
  "language_info": {
   "codemirror_mode": {
    "name": "ipython",
    "version": 3
   },
   "file_extension": ".py",
   "mimetype": "text/x-python",
   "name": "python",
   "nbconvert_exporter": "python",
   "pygments_lexer": "ipython3",
   "version": "3.11.0"
  },
  "orig_nbformat": 4
 },
 "nbformat": 4,
 "nbformat_minor": 2
}
